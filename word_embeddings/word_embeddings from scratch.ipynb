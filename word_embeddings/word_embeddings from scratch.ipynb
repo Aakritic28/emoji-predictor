{
  "cells": [
    {
      "cell_type": "markdown",
      "id": "ambient-desperate",
      "metadata": {
        "id": "ambient-desperate"
      },
      "source": [
        "# Load Data"
      ]
    },
    {
      "cell_type": "code",
      "execution_count": 2,
      "id": "e116aadf",
      "metadata": {
        "colab": {
          "base_uri": "https://localhost:8080/"
        },
        "id": "e116aadf",
        "outputId": "0c9ef529-278c-439a-cc31-9d13465f474a"
      },
      "outputs": [
        {
          "output_type": "stream",
          "name": "stdout",
          "text": [
            "['The future king is the prince\\n', 'Daughter is the princess\\n', 'Son is the prince\\n', 'Only a man can be a king\\n', 'Only a woman can be a queen\\n', 'The princess will be a queen\\n', 'The prince is a strong man\\n', 'The princess is a beautiful woman\\n', 'Prince is only a boy now\\n', 'Prince will be king\\n', 'A boy will be a man']\n"
          ]
        }
      ],
      "source": [
        "file =open('Royal_data.txt', 'r')\n",
        "royal_data=file.readlines()\n",
        "print(royal_data)\n",
        "file.close()\n"
      ]
    },
    {
      "cell_type": "code",
      "execution_count": 3,
      "id": "still-mongolia",
      "metadata": {
        "colab": {
          "base_uri": "https://localhost:8080/"
        },
        "id": "still-mongolia",
        "outputId": "46784ec0-65b7-4772-9641-fb9625f36bad"
      },
      "outputs": [
        {
          "output_type": "stream",
          "name": "stdout",
          "text": [
            "['the future king is the prince', 'daughter is the princess', 'son is the prince', 'only a man can be a king', 'only a woman can be a queen', 'the princess will be a queen', 'the prince is a strong man', 'the princess is a beautiful woman', 'prince is only a boy now', 'prince will be king', 'a boy will be a man']\n"
          ]
        }
      ],
      "source": [
        "for i in range(len(royal_data)):\n",
        "  royal_data[i]=royal_data[i].lower().replace('\\n', '')\n",
        "print(royal_data)"
      ]
    },
    {
      "cell_type": "markdown",
      "id": "actual-emperor",
      "metadata": {
        "id": "actual-emperor"
      },
      "source": [
        "# Remove stop words and tokenize"
      ]
    },
    {
      "cell_type": "code",
      "execution_count": 4,
      "id": "concrete-story",
      "metadata": {
        "colab": {
          "base_uri": "https://localhost:8080/"
        },
        "id": "concrete-story",
        "outputId": "1a139616-ee32-4489-b3f4-678e03a35498"
      },
      "outputs": [
        {
          "output_type": "stream",
          "name": "stdout",
          "text": [
            "[['future', 'king', 'prince'], ['daughter', 'princess'], ['son', 'prince'], ['man', 'king'], ['woman', 'queen'], ['princess', 'queen'], ['prince', 'strong', 'man'], ['princess', 'beautiful', 'woman'], ['prince', 'boy'], ['prince', 'king'], ['boy', 'man']]\n"
          ]
        }
      ],
      "source": [
        "stopword=['the', 'is', 'will', 'now', 'can', 'be', 'a', 'only', 'their', 'and', 'at', 'it']\n",
        "\n",
        "filtered_data=[]\n",
        "for i in royal_data:\n",
        "  temp=[]\n",
        "  for word in i.split():\n",
        "    if word not in stopword:\n",
        "      temp.append(word)\n",
        "  filtered_data.append(temp)\n",
        "\n",
        "print(filtered_data)"
      ]
    },
    {
      "cell_type": "markdown",
      "id": "macro-guatemala",
      "metadata": {
        "id": "macro-guatemala"
      },
      "source": [
        "# Creating Bigrams"
      ]
    },
    {
      "cell_type": "code",
      "execution_count": 5,
      "id": "micro-indianapolis",
      "metadata": {
        "colab": {
          "base_uri": "https://localhost:8080/"
        },
        "id": "micro-indianapolis",
        "outputId": "a59f4b85-f9f6-4962-8e85-4f2288615cd2"
      },
      "outputs": [
        {
          "output_type": "stream",
          "name": "stdout",
          "text": [
            "[['future', 'king'], ['king', 'future'], ['future', 'prince'], ['prince', 'future'], ['king', 'prince'], ['prince', 'king'], ['daughter', 'princess'], ['princess', 'daughter'], ['son', 'prince'], ['prince', 'son'], ['man', 'king'], ['king', 'man'], ['woman', 'queen'], ['queen', 'woman'], ['princess', 'queen'], ['queen', 'princess'], ['prince', 'strong'], ['strong', 'prince'], ['prince', 'man'], ['man', 'prince'], ['strong', 'man'], ['man', 'strong'], ['princess', 'beautiful'], ['beautiful', 'princess'], ['princess', 'woman'], ['woman', 'princess'], ['beautiful', 'woman'], ['woman', 'beautiful'], ['prince', 'boy'], ['boy', 'prince'], ['prince', 'king'], ['king', 'prince'], ['boy', 'man'], ['man', 'boy']]\n"
          ]
        }
      ],
      "source": [
        "bigrams=[]\n",
        "for word_list in filtered_data:\n",
        "  for i in range(len(word_list)-1):\n",
        "    for j in range(i+1, len(word_list)):\n",
        "      bigrams.append([word_list[i], word_list[j]])\n",
        "      bigrams.append([word_list[j], word_list[i]])\n",
        "\n",
        "print(bigrams)"
      ]
    },
    {
      "cell_type": "markdown",
      "id": "earned-location",
      "metadata": {
        "id": "earned-location"
      },
      "source": [
        "# Vocabulary"
      ]
    },
    {
      "cell_type": "code",
      "execution_count": 8,
      "id": "scheduled-decision",
      "metadata": {
        "colab": {
          "base_uri": "https://localhost:8080/"
        },
        "id": "scheduled-decision",
        "outputId": "1eff9765-5c1a-4610-ce00-9615f923e65f"
      },
      "outputs": [
        {
          "output_type": "stream",
          "name": "stdout",
          "text": [
            "['beautiful', 'boy', 'daughter', 'future', 'king', 'man', 'prince', 'princess', 'queen', 'son', 'strong', 'woman']\n",
            "Total number of unique words are: \n",
            " 12\n",
            "{'beautiful': 0, 'boy': 1, 'daughter': 2, 'future': 3, 'king': 4, 'man': 5, 'prince': 6, 'princess': 7, 'queen': 8, 'son': 9, 'strong': 10, 'woman': 11}\n"
          ]
        }
      ],
      "source": [
        "vocabulary=[]\n",
        "for bi in bigrams:\n",
        "  vocabulary.extend(bi)\n",
        "vocabulary=list(set(vocabulary))\n",
        "vocabulary.sort()\n",
        "print(vocabulary)\n",
        "print(\"Total number of unique words are: \\n\", len(vocabulary))\n",
        "\n",
        "word_order={}\n",
        "counter=0\n",
        "for word in vocabulary:\n",
        "  word_order[word]=counter\n",
        "  counter+=1\n",
        "\n",
        "print(word_order)\n"
      ]
    },
    {
      "cell_type": "markdown",
      "id": "public-ebony",
      "metadata": {
        "id": "public-ebony"
      },
      "source": [
        "# One-hot encoding"
      ]
    },
    {
      "cell_type": "code",
      "execution_count": 9,
      "id": "critical-basketball",
      "metadata": {
        "colab": {
          "base_uri": "https://localhost:8080/"
        },
        "id": "critical-basketball",
        "outputId": "29545bab-da2e-4e41-aba7-844ab7c951ec"
      },
      "outputs": [
        {
          "output_type": "stream",
          "name": "stdout",
          "text": [
            "beautiful : [1. 0. 0. 0. 0. 0. 0. 0. 0. 0. 0. 0.]\n",
            "boy : [0. 1. 0. 0. 0. 0. 0. 0. 0. 0. 0. 0.]\n",
            "daughter : [0. 0. 1. 0. 0. 0. 0. 0. 0. 0. 0. 0.]\n",
            "future : [0. 0. 0. 1. 0. 0. 0. 0. 0. 0. 0. 0.]\n",
            "king : [0. 0. 0. 0. 1. 0. 0. 0. 0. 0. 0. 0.]\n",
            "man : [0. 0. 0. 0. 0. 1. 0. 0. 0. 0. 0. 0.]\n",
            "prince : [0. 0. 0. 0. 0. 0. 1. 0. 0. 0. 0. 0.]\n",
            "princess : [0. 0. 0. 0. 0. 0. 0. 1. 0. 0. 0. 0.]\n",
            "queen : [0. 0. 0. 0. 0. 0. 0. 0. 1. 0. 0. 0.]\n",
            "son : [0. 0. 0. 0. 0. 0. 0. 0. 0. 1. 0. 0.]\n",
            "strong : [0. 0. 0. 0. 0. 0. 0. 0. 0. 0. 1. 0.]\n",
            "woman : [0. 0. 0. 0. 0. 0. 0. 0. 0. 0. 0. 1.]\n"
          ]
        }
      ],
      "source": [
        "import numpy as np\n",
        "onehot_data=np.zeros((len(vocabulary), len(vocabulary)))\n",
        "for i in range(len(vocabulary)):\n",
        "  onehot_data[i][i]=1\n",
        "one_dict={}\n",
        "counter=0\n",
        "for word in vocabulary:\n",
        "  one_dict[word]=onehot_data[counter]\n",
        "  counter+=1\n",
        "\n",
        "for word in one_dict:\n",
        "  print(word, \":\", one_dict[word])"
      ]
    },
    {
      "cell_type": "code",
      "execution_count": 12,
      "id": "flying-export",
      "metadata": {
        "colab": {
          "base_uri": "https://localhost:8080/"
        },
        "id": "flying-export",
        "outputId": "da44d544-8207-4136-8145-89a028889819"
      },
      "outputs": [
        {
          "output_type": "stream",
          "name": "stdout",
          "text": [
            "[[0. 0. 0. 0. 1. 0. 0. 0. 0. 0. 0. 0.]\n",
            " [0. 0. 0. 1. 0. 0. 0. 0. 0. 0. 0. 0.]\n",
            " [0. 0. 0. 0. 0. 0. 1. 0. 0. 0. 0. 0.]\n",
            " [0. 0. 0. 1. 0. 0. 0. 0. 0. 0. 0. 0.]\n",
            " [0. 0. 0. 0. 0. 0. 1. 0. 0. 0. 0. 0.]\n",
            " [0. 0. 0. 0. 1. 0. 0. 0. 0. 0. 0. 0.]\n",
            " [0. 0. 0. 0. 0. 0. 0. 1. 0. 0. 0. 0.]\n",
            " [0. 0. 1. 0. 0. 0. 0. 0. 0. 0. 0. 0.]\n",
            " [0. 0. 0. 0. 0. 0. 1. 0. 0. 0. 0. 0.]\n",
            " [0. 0. 0. 0. 0. 0. 0. 0. 0. 1. 0. 0.]\n",
            " [0. 0. 0. 0. 1. 0. 0. 0. 0. 0. 0. 0.]\n",
            " [0. 0. 0. 0. 0. 1. 0. 0. 0. 0. 0. 0.]\n",
            " [0. 0. 0. 0. 0. 0. 0. 0. 1. 0. 0. 0.]\n",
            " [0. 0. 0. 0. 0. 0. 0. 0. 0. 0. 0. 1.]\n",
            " [0. 0. 0. 0. 0. 0. 0. 0. 1. 0. 0. 0.]\n",
            " [0. 0. 0. 0. 0. 0. 0. 1. 0. 0. 0. 0.]\n",
            " [0. 0. 0. 0. 0. 0. 0. 0. 0. 0. 1. 0.]\n",
            " [0. 0. 0. 0. 0. 0. 1. 0. 0. 0. 0. 0.]\n",
            " [0. 0. 0. 0. 0. 1. 0. 0. 0. 0. 0. 0.]\n",
            " [0. 0. 0. 0. 0. 0. 1. 0. 0. 0. 0. 0.]\n",
            " [0. 0. 0. 0. 0. 1. 0. 0. 0. 0. 0. 0.]\n",
            " [0. 0. 0. 0. 0. 0. 0. 0. 0. 0. 1. 0.]\n",
            " [1. 0. 0. 0. 0. 0. 0. 0. 0. 0. 0. 0.]\n",
            " [0. 0. 0. 0. 0. 0. 0. 1. 0. 0. 0. 0.]\n",
            " [0. 0. 0. 0. 0. 0. 0. 0. 0. 0. 0. 1.]\n",
            " [0. 0. 0. 0. 0. 0. 0. 1. 0. 0. 0. 0.]\n",
            " [0. 0. 0. 0. 0. 0. 0. 0. 0. 0. 0. 1.]\n",
            " [1. 0. 0. 0. 0. 0. 0. 0. 0. 0. 0. 0.]\n",
            " [0. 1. 0. 0. 0. 0. 0. 0. 0. 0. 0. 0.]\n",
            " [0. 0. 0. 0. 0. 0. 1. 0. 0. 0. 0. 0.]\n",
            " [0. 0. 0. 0. 1. 0. 0. 0. 0. 0. 0. 0.]\n",
            " [0. 0. 0. 0. 0. 0. 1. 0. 0. 0. 0. 0.]\n",
            " [0. 0. 0. 0. 0. 1. 0. 0. 0. 0. 0. 0.]\n",
            " [0. 1. 0. 0. 0. 0. 0. 0. 0. 0. 0. 0.]]\n",
            "[[0. 0. 0. 1. 0. 0. 0. 0. 0. 0. 0. 0.]\n",
            " [0. 0. 0. 0. 1. 0. 0. 0. 0. 0. 0. 0.]\n",
            " [0. 0. 0. 1. 0. 0. 0. 0. 0. 0. 0. 0.]\n",
            " [0. 0. 0. 0. 0. 0. 1. 0. 0. 0. 0. 0.]\n",
            " [0. 0. 0. 0. 1. 0. 0. 0. 0. 0. 0. 0.]\n",
            " [0. 0. 0. 0. 0. 0. 1. 0. 0. 0. 0. 0.]\n",
            " [0. 0. 1. 0. 0. 0. 0. 0. 0. 0. 0. 0.]\n",
            " [0. 0. 0. 0. 0. 0. 0. 1. 0. 0. 0. 0.]\n",
            " [0. 0. 0. 0. 0. 0. 0. 0. 0. 1. 0. 0.]\n",
            " [0. 0. 0. 0. 0. 0. 1. 0. 0. 0. 0. 0.]\n",
            " [0. 0. 0. 0. 0. 1. 0. 0. 0. 0. 0. 0.]\n",
            " [0. 0. 0. 0. 1. 0. 0. 0. 0. 0. 0. 0.]\n",
            " [0. 0. 0. 0. 0. 0. 0. 0. 0. 0. 0. 1.]\n",
            " [0. 0. 0. 0. 0. 0. 0. 0. 1. 0. 0. 0.]\n",
            " [0. 0. 0. 0. 0. 0. 0. 1. 0. 0. 0. 0.]\n",
            " [0. 0. 0. 0. 0. 0. 0. 0. 1. 0. 0. 0.]\n",
            " [0. 0. 0. 0. 0. 0. 1. 0. 0. 0. 0. 0.]\n",
            " [0. 0. 0. 0. 0. 0. 0. 0. 0. 0. 1. 0.]\n",
            " [0. 0. 0. 0. 0. 0. 1. 0. 0. 0. 0. 0.]\n",
            " [0. 0. 0. 0. 0. 1. 0. 0. 0. 0. 0. 0.]\n",
            " [0. 0. 0. 0. 0. 0. 0. 0. 0. 0. 1. 0.]\n",
            " [0. 0. 0. 0. 0. 1. 0. 0. 0. 0. 0. 0.]\n",
            " [0. 0. 0. 0. 0. 0. 0. 1. 0. 0. 0. 0.]\n",
            " [1. 0. 0. 0. 0. 0. 0. 0. 0. 0. 0. 0.]\n",
            " [0. 0. 0. 0. 0. 0. 0. 1. 0. 0. 0. 0.]\n",
            " [0. 0. 0. 0. 0. 0. 0. 0. 0. 0. 0. 1.]\n",
            " [1. 0. 0. 0. 0. 0. 0. 0. 0. 0. 0. 0.]\n",
            " [0. 0. 0. 0. 0. 0. 0. 0. 0. 0. 0. 1.]\n",
            " [0. 0. 0. 0. 0. 0. 1. 0. 0. 0. 0. 0.]\n",
            " [0. 1. 0. 0. 0. 0. 0. 0. 0. 0. 0. 0.]\n",
            " [0. 0. 0. 0. 0. 0. 1. 0. 0. 0. 0. 0.]\n",
            " [0. 0. 0. 0. 1. 0. 0. 0. 0. 0. 0. 0.]\n",
            " [0. 1. 0. 0. 0. 0. 0. 0. 0. 0. 0. 0.]\n",
            " [0. 0. 0. 0. 0. 1. 0. 0. 0. 0. 0. 0.]]\n"
          ]
        }
      ],
      "source": [
        "X=[]\n",
        "Y=[]\n",
        "for bi in bigrams:\n",
        "  X.append(one_dict[bi[0]])\n",
        "  Y.append(one_dict[bi[1]])\n",
        "\n",
        "X=np.array(X)\n",
        "Y=np.array(Y)\n",
        "print(Y)\n",
        "print(X)\n"
      ]
    },
    {
      "cell_type": "code",
      "execution_count": null,
      "id": "australian-member",
      "metadata": {
        "id": "australian-member"
      },
      "outputs": [],
      "source": [
        "\n"
      ]
    },
    {
      "cell_type": "markdown",
      "id": "fantastic-purpose",
      "metadata": {
        "id": "fantastic-purpose"
      },
      "source": [
        "# Model"
      ]
    },
    {
      "cell_type": "markdown",
      "id": "canadian-county",
      "metadata": {
        "id": "canadian-county"
      },
      "source": [
        "!['image'](nn-2.png)"
      ]
    },
    {
      "cell_type": "code",
      "execution_count": 13,
      "id": "applied-behavior",
      "metadata": {
        "id": "applied-behavior"
      },
      "outputs": [],
      "source": [
        "from keras.models import Sequential\n",
        "from keras.layers import Dense\n",
        "hidden_layer_size=2\n",
        "model=Sequential([\n",
        "    Dense(hidden_layer_size, activation='linear'),\n",
        "    Dense(Y.shape[1], activation='softmax')\n",
        "])\n",
        "\n",
        "model.compile(loss='categorical_crossentropy', optimizer='adam')\n"
      ]
    },
    {
      "cell_type": "code",
      "execution_count": 14,
      "id": "drawn-donna",
      "metadata": {
        "scrolled": true,
        "colab": {
          "base_uri": "https://localhost:8080/"
        },
        "id": "drawn-donna",
        "outputId": "0f79a233-666d-45cc-e345-563ece939a20"
      },
      "outputs": [
        {
          "output_type": "execute_result",
          "data": {
            "text/plain": [
              "<keras.src.callbacks.History at 0x7b8ef41cccd0>"
            ]
          },
          "metadata": {},
          "execution_count": 14
        }
      ],
      "source": [
        "model.fit(X,Y, epochs=1000, batch_size=256,verbose=False)"
      ]
    },
    {
      "cell_type": "code",
      "execution_count": 15,
      "id": "important-bride",
      "metadata": {
        "colab": {
          "base_uri": "https://localhost:8080/"
        },
        "id": "important-bride",
        "outputId": "19f3a3b9-14d9-4f78-b3a3-8e5f6f2052a0"
      },
      "outputs": [
        {
          "output_type": "stream",
          "name": "stdout",
          "text": [
            "{'beautiful': array([-1.1334883,  0.7315507], dtype=float32), 'boy': array([ 1.1240507, -1.1157411], dtype=float32), 'daughter': array([-1.5523199,  1.6056994], dtype=float32), 'future': array([1.3523109 , 0.15071943], dtype=float32), 'king': array([ 0.80844975, -0.667393  ], dtype=float32), 'man': array([0.5916757, 1.026372 ], dtype=float32), 'prince': array([1.6420839, 1.3126001], dtype=float32), 'princess': array([-1.5681583, -1.2494402], dtype=float32), 'queen': array([-1.0726417 ,  0.47503254], dtype=float32), 'son': array([ 0.69719166, -1.2914861 ], dtype=float32), 'strong': array([ 1.1241932, -0.607762 ], dtype=float32), 'woman': array([-0.68881553,  0.3599643 ], dtype=float32)}\n"
          ]
        }
      ],
      "source": [
        "weight=model.get_weights()[0]\n",
        "word_embeddings={}\n",
        "for word in vocabulary:\n",
        "  word_embeddings[word]=weight[word_order[word]]\n",
        "\n",
        "print(word_embeddings)"
      ]
    },
    {
      "cell_type": "code",
      "execution_count": 17,
      "id": "white-pound",
      "metadata": {
        "colab": {
          "base_uri": "https://localhost:8080/",
          "height": 430
        },
        "id": "white-pound",
        "outputId": "7d2a4857-683d-412d-e3b2-d2812f9b2e0d"
      },
      "outputs": [
        {
          "output_type": "display_data",
          "data": {
            "text/plain": [
              "<Figure size 640x480 with 1 Axes>"
            ],
            "image/png": "[encoded data removed]"
          },
          "metadata": {}
        }
      ],
      "source": [
        "import matplotlib.pyplot as plt\n",
        "for word in list(word_order.keys()):\n",
        "  coord=word_embeddings.get(word)\n",
        "  plt.scatter(coord[0], coord[1])\n",
        "  plt.annotate(word, (coord[0], coord[1]))\n",
        "plt.show()"
      ]
    },
    {
      "cell_type": "code",
      "execution_count": null,
      "id": "greek-stroke",
      "metadata": {
        "id": "greek-stroke"
      },
      "outputs": [],
      "source": []
    }
  ],
  "metadata": {
    "kernelspec": {
      "display_name": "Python 3",
      "language": "python",
      "name": "python3"
    },
    "language_info": {
      "codemirror_mode": {
        "name": "ipython",
        "version": 3
      },
      "file_extension": ".py",
      "mimetype": "text/x-python",
      "name": "python",
      "nbconvert_exporter": "python",
      "pygments_lexer": "ipython3",
      "version": "3.9.1"
    },
    "vscode": {
      "interpreter": {
        "hash": "f06e3119828c145c4028f0fee76387e74b42caa79bccb80b4ba64fe213bb9e06"
      }
    },
    "colab": {
      "provenance": []
    }
  },
  "nbformat": 4,
  "nbformat_minor": 5
}